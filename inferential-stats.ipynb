{
 "cells": [
  {
   "cell_type": "markdown",
   "metadata": {},
   "source": [
    "# Short tutorial on descriptive statistics using Python and Pandas\n",
    "\n",
    "This tutorial uses the Wine data set that can be downloaded from Kaggle at the following URL:\n",
    "\n",
    "https://www.kaggle.com/zynicide/wine-reviews\n",
    "\n",
    "The tutorial covers the following topics\n",
    "- Measures of central tendancy (mean, median and mode)\n",
    "- Measures of spread (range, standard deviation and variance)\n",
    "- The conection between standard deviation and normal distributions\n",
    "- Uniform or random distributions\n",
    "- Outliers\n",
    "- Data visualisations (Histograms and Boxplots)"
   ]
  },
  {
   "cell_type": "code",
   "execution_count": 2,
   "metadata": {},
   "outputs": [],
   "source": [
    "# Author: Stephen Sheridan\n",
    "# Import the required libraries\n",
    "import pandas as pd\n",
    "import pylab\n",
    "import random\n",
    "import numpy as np\n",
    "import matplotlib.pyplot as plt\n",
    "import warnings\n",
    "from scipy import stats"
   ]
  },
  {
   "cell_type": "code",
   "execution_count": 3,
   "metadata": {},
   "outputs": [],
   "source": [
    "# Set default pylab stuff to show plots inline and set the default plot size\n",
    "%matplotlib inline\n",
    "pylab.rcParams['figure.figsize'] = (13.0, 5.0)\n",
    "warnings.filterwarnings('ignore')"
   ]
  },
  {
   "cell_type": "markdown",
   "metadata": {},
   "source": [
    "#### Load the data into a dataframe using the read_csv function and display the top rows using the head function."
   ]
  },
  {
   "cell_type": "code",
   "execution_count": 4,
   "metadata": {},
   "outputs": [
    {
     "data": {
      "text/html": [
       "<div>\n",
       "<style scoped>\n",
       "    .dataframe tbody tr th:only-of-type {\n",
       "        vertical-align: middle;\n",
       "    }\n",
       "\n",
       "    .dataframe tbody tr th {\n",
       "        vertical-align: top;\n",
       "    }\n",
       "\n",
       "    .dataframe thead th {\n",
       "        text-align: right;\n",
       "    }\n",
       "</style>\n",
       "<table border=\"1\" class=\"dataframe\">\n",
       "  <thead>\n",
       "    <tr style=\"text-align: right;\">\n",
       "      <th></th>\n",
       "      <th>country</th>\n",
       "      <th>designation</th>\n",
       "      <th>points</th>\n",
       "      <th>price</th>\n",
       "      <th>province</th>\n",
       "      <th>region_1</th>\n",
       "      <th>taster_name</th>\n",
       "      <th>title</th>\n",
       "      <th>variety</th>\n",
       "      <th>winery</th>\n",
       "    </tr>\n",
       "  </thead>\n",
       "  <tbody>\n",
       "    <tr>\n",
       "      <th>0</th>\n",
       "      <td>US</td>\n",
       "      <td>Reserve Late Harvest</td>\n",
       "      <td>87</td>\n",
       "      <td>13.0</td>\n",
       "      <td>Michigan</td>\n",
       "      <td>Lake Michigan Shore</td>\n",
       "      <td>Alexander Peartree</td>\n",
       "      <td>St. Julian 2013 Reserve Late Harvest Riesling ...</td>\n",
       "      <td>Riesling</td>\n",
       "      <td>St. Julian</td>\n",
       "    </tr>\n",
       "    <tr>\n",
       "      <th>1</th>\n",
       "      <td>US</td>\n",
       "      <td>Vintner's Reserve Wild Child Block</td>\n",
       "      <td>87</td>\n",
       "      <td>65.0</td>\n",
       "      <td>Oregon</td>\n",
       "      <td>Willamette Valley</td>\n",
       "      <td>Paul Gregutt</td>\n",
       "      <td>Sweet Cheeks 2012 Vintner's Reserve Wild Child...</td>\n",
       "      <td>Pinot Noir</td>\n",
       "      <td>Sweet Cheeks</td>\n",
       "    </tr>\n",
       "    <tr>\n",
       "      <th>2</th>\n",
       "      <td>Spain</td>\n",
       "      <td>Ars In Vitro</td>\n",
       "      <td>87</td>\n",
       "      <td>15.0</td>\n",
       "      <td>Northern Spain</td>\n",
       "      <td>Navarra</td>\n",
       "      <td>Michael Schachner</td>\n",
       "      <td>Tandem 2011 Ars In Vitro Tempranillo-Merlot (N...</td>\n",
       "      <td>Tempranillo-Merlot</td>\n",
       "      <td>Tandem</td>\n",
       "    </tr>\n",
       "    <tr>\n",
       "      <th>3</th>\n",
       "      <td>Italy</td>\n",
       "      <td>Belsito</td>\n",
       "      <td>87</td>\n",
       "      <td>16.0</td>\n",
       "      <td>Sicily &amp; Sardinia</td>\n",
       "      <td>Vittoria</td>\n",
       "      <td>Kerin O’Keefe</td>\n",
       "      <td>Terre di Giurfo 2013 Belsito Frappato (Vittoria)</td>\n",
       "      <td>Frappato</td>\n",
       "      <td>Terre di Giurfo</td>\n",
       "    </tr>\n",
       "    <tr>\n",
       "      <th>4</th>\n",
       "      <td>France</td>\n",
       "      <td>Les Natures</td>\n",
       "      <td>87</td>\n",
       "      <td>27.0</td>\n",
       "      <td>Alsace</td>\n",
       "      <td>Alsace</td>\n",
       "      <td>Roger Voss</td>\n",
       "      <td>Jean-Baptiste Adam 2012 Les Natures Pinot Gris...</td>\n",
       "      <td>Pinot Gris</td>\n",
       "      <td>Jean-Baptiste Adam</td>\n",
       "    </tr>\n",
       "  </tbody>\n",
       "</table>\n",
       "</div>"
      ],
      "text/plain": [
       "  country                         designation  points  price  \\\n",
       "0      US                Reserve Late Harvest      87   13.0   \n",
       "1      US  Vintner's Reserve Wild Child Block      87   65.0   \n",
       "2   Spain                        Ars In Vitro      87   15.0   \n",
       "3   Italy                             Belsito      87   16.0   \n",
       "4  France                         Les Natures      87   27.0   \n",
       "\n",
       "            province             region_1         taster_name  \\\n",
       "0           Michigan  Lake Michigan Shore  Alexander Peartree   \n",
       "1             Oregon    Willamette Valley        Paul Gregutt   \n",
       "2     Northern Spain              Navarra   Michael Schachner   \n",
       "3  Sicily & Sardinia             Vittoria       Kerin O’Keefe   \n",
       "4             Alsace               Alsace          Roger Voss   \n",
       "\n",
       "                                               title             variety  \\\n",
       "0  St. Julian 2013 Reserve Late Harvest Riesling ...            Riesling   \n",
       "1  Sweet Cheeks 2012 Vintner's Reserve Wild Child...          Pinot Noir   \n",
       "2  Tandem 2011 Ars In Vitro Tempranillo-Merlot (N...  Tempranillo-Merlot   \n",
       "3   Terre di Giurfo 2013 Belsito Frappato (Vittoria)            Frappato   \n",
       "4  Jean-Baptiste Adam 2012 Les Natures Pinot Gris...          Pinot Gris   \n",
       "\n",
       "               winery  \n",
       "0          St. Julian  \n",
       "1        Sweet Cheeks  \n",
       "2              Tandem  \n",
       "3     Terre di Giurfo  \n",
       "4  Jean-Baptiste Adam  "
      ]
     },
     "execution_count": 4,
     "metadata": {},
     "output_type": "execute_result"
    }
   ],
   "source": [
    "# Load the wine data from the csv file\n",
    "wine_df = pd.read_csv('data/winemag-data.csv')\n",
    "# The following line can be used to drop any rows that have missing values\n",
    "#wine_df.dropna(inplace=True)\n",
    "# Display the top 10 rows of the  wine dataframe\n",
    "wine_df.head()"
   ]
  },
  {
   "cell_type": "markdown",
   "metadata": {},
   "source": [
    "### What would the distribution of random data look like?\n",
    "When we plot random data on a histogram it should approximate a uniform distribution. In other words, the height of each bin should be roughly the same. "
   ]
  },
  {
   "cell_type": "code",
   "execution_count": 5,
   "metadata": {},
   "outputs": [
    {
     "data": {
      "image/png": "[encoded data removed]",
      "text/plain": [
       "<Figure size 936x360 with 1 Axes>"
      ]
     },
     "metadata": {
      "needs_background": "light"
     },
     "output_type": "display_data"
    }
   ],
   "source": [
    "# Lets generate some random data and plot it using a Histogram BINS=50\n",
    "random_values = np.random.randint(-100, 100, size=(10000))\n",
    "random_df = pd.DataFrame(random_values, columns=['value'])\n",
    "random_df['value'].plot(kind='hist', bins=20)\n",
    "plt.savefig(\"figs/random_hist.pdf\")"
   ]
  },
  {
   "cell_type": "markdown",
   "metadata": {},
   "source": [
    "### Let's sample the random values?\n",
    "The code below takes 1000 samples of size 30 and stores the mean of each sample in a list. "
   ]
  },
  {
   "cell_type": "code",
   "execution_count": 6,
   "metadata": {},
   "outputs": [],
   "source": [
    "sample_size = 30\n",
    "number_of_samples = 1000\n",
    "random_means = []\n",
    "for i in range(number_of_samples):\n",
    "    random_sample = random_df.sample(n=sample_size)\n",
    "    random_means.append(random_sample['value'].mean())"
   ]
  },
  {
   "cell_type": "markdown",
   "metadata": {},
   "source": [
    "### Plotting the means of the random sample?\n",
    "When we plot the means of the random data we can see that they approximate a normal distribution. Even though we know the data was random. "
   ]
  },
  {
   "cell_type": "code",
   "execution_count": 7,
   "metadata": {},
   "outputs": [
    {
     "data": {
      "text/plain": [
       "<matplotlib.axes._subplots.AxesSubplot at 0x7f9943f97970>"
      ]
     },
     "execution_count": 7,
     "metadata": {},
     "output_type": "execute_result"
    },
    {
     "data": {
      "image/png": "[encoded data removed]",
      "text/plain": [
       "<Figure size 936x360 with 1 Axes>"
      ]
     },
     "metadata": {
      "needs_background": "light"
     },
     "output_type": "display_data"
    }
   ],
   "source": [
    "random_means_df = pd.DataFrame(random_means, columns=['value'])\n",
    "random_means_df['value'].plot(kind='hist', bins=20)\n"
   ]
  },
  {
   "cell_type": "markdown",
   "metadata": {},
   "source": [
    "### Is this data normally distributed?"
   ]
  },
  {
   "cell_type": "code",
   "execution_count": 28,
   "metadata": {},
   "outputs": [
    {
     "name": "stdout",
     "output_type": "stream",
     "text": [
      "The null hypothesis cannot be rejected\n"
     ]
    }
   ],
   "source": [
    "alpha = 0.005\n",
    "k2, p = stats.normaltest(random_means_df['value'])\n",
    "if p < alpha:  # null hypothesis: sample comes from a normal distribution\n",
    "    print(\"The null hypothesis can be rejected\")\n",
    "else:\n",
    "    print(\"The null hypothesis cannot be rejected\")"
   ]
  },
  {
   "cell_type": "markdown",
   "metadata": {},
   "source": [
    "### Visualising the wine price data\n",
    "The following code plots the wine price data on a histogram. Clearly, the wine price data is not normally distributed."
   ]
  },
  {
   "cell_type": "code",
   "execution_count": 11,
   "metadata": {
    "scrolled": false
   },
   "outputs": [
    {
     "data": {
      "text/plain": [
       "Text(0.5, 0, 'Price')"
      ]
     },
     "execution_count": 11,
     "metadata": {},
     "output_type": "execute_result"
    },
    {
     "data": {
      "image/png": "[encoded data removed]",
      "text/plain": [
       "<Figure size 936x360 with 1 Axes>"
      ]
     },
     "metadata": {
      "needs_background": "light"
     },
     "output_type": "display_data"
    }
   ],
   "source": [
    "# Let's plot the price data\n",
    "ax = wine_df['price'].plot(kind='hist', bins=20)\n",
    "ax.set_title(\"Distribution of \" + str(sample_size) + \" sample wine prices\")\n",
    "ax.set_ylabel('Price Density')\n",
    "ax.set_xlabel('Price')"
   ]
  },
  {
   "cell_type": "markdown",
   "metadata": {},
   "source": [
    "### Let's take some more random samples of the wine price data\n",
    "The code below takes 10,000 samples of size 100 from the sample of 10,000."
   ]
  },
  {
   "cell_type": "code",
   "execution_count": 12,
   "metadata": {},
   "outputs": [],
   "source": [
    "sample_size = 100\n",
    "number_of_samples = 10000\n",
    "sample_means = []\n",
    "for i in range(number_of_samples):\n",
    "    wine_sample = wine_df.sample(n=sample_size)\n",
    "    sample_means.append(wine_sample['price'].mean())"
   ]
  },
  {
   "cell_type": "markdown",
   "metadata": {},
   "source": [
    "### What does the distribution of the means look like?"
   ]
  },
  {
   "cell_type": "code",
   "execution_count": 18,
   "metadata": {},
   "outputs": [
    {
     "name": "stdout",
     "output_type": "stream",
     "text": [
      "value    39.204183\n",
      "dtype: float64\n"
     ]
    },
    {
     "data": {
      "image/png": "[encoded data removed]",
      "text/plain": [
       "<Figure size 936x360 with 1 Axes>"
      ]
     },
     "metadata": {
      "needs_background": "light"
     },
     "output_type": "display_data"
    }
   ],
   "source": [
    "sampled_prices = pd.DataFrame(sample_means, columns=['value'])\n",
    "ax = sampled_prices['value'].plot(kind='hist', bins=20)\n",
    "ax.set_title(\"Distribution of 10,000 sample means (Price) n=\" + str(sample_size))\n",
    "ax.set_ylabel('Price Density')\n",
    "ax.set_xlabel('Mean Price')\n",
    "plt.savefig(\"figs/sample_means_price.pdf\")\n",
    "print(sampled_prices.mean())"
   ]
  },
  {
   "cell_type": "markdown",
   "metadata": {},
   "source": [
    "### Is this data normally distributed?"
   ]
  },
  {
   "cell_type": "code",
   "execution_count": 27,
   "metadata": {},
   "outputs": [
    {
     "name": "stdout",
     "output_type": "stream",
     "text": [
      "The null hypothesis can be rejected\n"
     ]
    }
   ],
   "source": [
    "alpha = 0.05\n",
    "k2, p = stats.normaltest(sampled_prices['value'])\n",
    "if p < alpha:  # null hypothesis: sample comes from a normal distribution\n",
    "    print(\"The null hypothesis can be rejected\")\n",
    "else:\n",
    "    print(\"The null hypothesis cannot be rejected\")"
   ]
  },
  {
   "cell_type": "markdown",
   "metadata": {},
   "source": [
    "### Comparing distributions using a t-test\n",
    "The code below uses a t-test to check to see if a sample of wine points has a mean that is similar to the population mean (population mean is the mean of the entire data set)"
   ]
  },
  {
   "cell_type": "code",
   "execution_count": 30,
   "metadata": {},
   "outputs": [
    {
     "name": "stdout",
     "output_type": "stream",
     "text": [
      "Sample of 30 random wine points has mean in line with population mean\n",
      "Population mean points 88.96654975078457 Sample mean points 88.93333333333334\n",
      "Stat score = -0.068284 P-value = 0.946028\n",
      "Accept NULL hypothesis if p-value > 0.05\n",
      "Otherwise reject NULL hypothesis and accept alternative\n",
      "The null hypothesis cannot be rejected\n"
     ]
    }
   ],
   "source": [
    "#Grab a sample of the wine data set n=30\n",
    "sample_size = 30\n",
    "wine_sample_df = wine_df.sample(n=sample_size)\n",
    "\n",
    "# Hypothesis\n",
    "print(\"Sample of 30 random wine points has mean in line with population mean\")\n",
    "\n",
    "# Population mean \n",
    "pop_mean =  wine_df['points'].mean()\n",
    "# Random sample mean n=30\n",
    "sample_mean = wine_sample_df['points'].mean()\n",
    "\n",
    "print(\"Population mean points \" + str(pop_mean) + \" Sample mean points \" + str(sample_mean))\n",
    "\n",
    "# Test to see if the mean of the sample is similar to the mean of the population\n",
    "results =  stats.ttest_1samp(wine_sample_df['points'], pop_mean)\n",
    "\n",
    "print(\"Stat score = %.6f P-value = %.6f\" % (results.statistic, results.pvalue))\n",
    "print(\"Accept NULL hypothesis if p-value > 0.05\")\n",
    "print(\"Otherwise reject NULL hypothesis and accept alternative\")\n",
    "\n",
    "if results.pvalue < alpha:  # null hypothesis: mean of the sample is similar to the mean of the population\n",
    "    print(\"The null hypothesis can be rejected\")\n",
    "else:\n",
    "    print(\"The null hypothesis cannot be rejected\")"
   ]
  },
  {
   "cell_type": "markdown",
   "metadata": {},
   "source": [
    "### Comparing distributions using a t-test\n",
    "We can also use a t-test to check to see if the mean of the wine points sample is in line with some aritrary mean, let's say 50."
   ]
  },
  {
   "cell_type": "code",
   "execution_count": 32,
   "metadata": {},
   "outputs": [
    {
     "name": "stdout",
     "output_type": "stream",
     "text": [
      "Sample of 30 random points has mean of 50\n",
      "Sample mean points 89.43333333333334\n",
      "Stat score = 68.140165 P-value = 0.000000\n",
      "Accept NULL hypothesis if p-value > 0.05\n",
      "Otherwise reject NULL hypothesis and accept alternative\n",
      "The null hypothesis can be rejected\n"
     ]
    }
   ],
   "source": [
    "#Grab a sample of the wine data set n=30\n",
    "sample_size = 30\n",
    "wine_sample_df = wine_df.sample(n=sample_size)\n",
    "\n",
    "# Hypothesis\n",
    "print(\"Sample of 30 random points has mean of 50\")\n",
    "\n",
    "# Random sample mean n=30\n",
    "sample_mean = wine_sample_df['points'].mean()\n",
    "print(\"Sample mean points \" + str(sample_mean))\n",
    "\n",
    "# Test to see if the mean of the sample is 50\n",
    "results =  stats.ttest_1samp(wine_sample_df['points'], 50)\n",
    "\n",
    "print(\"Stat score = %.6f P-value = %.6f\" % (results.statistic, results.pvalue))\n",
    "print(\"Accept NULL hypothesis if p-value > 0.05\")\n",
    "print(\"Otherwise reject NULL hypothesis and accept alternative\")\n",
    "\n",
    "if results.pvalue < alpha:  # null hypothesis: Sample of 30 random points has mean of 50\n",
    "    print(\"The null hypothesis can be rejected\")\n",
    "else:\n",
    "    print(\"The null hypothesis cannot be rejected\")"
   ]
  },
  {
   "cell_type": "code",
   "execution_count": null,
   "metadata": {},
   "outputs": [],
   "source": []
  }
 ],
 "metadata": {
  "kernelspec": {
   "display_name": "Python 3",
   "language": "python",
   "name": "python3"
  },
  "language_info": {
   "codemirror_mode": {
    "name": "ipython",
    "version": 3
   },
   "file_extension": ".py",
   "mimetype": "text/x-python",
   "name": "python",
   "nbconvert_exporter": "python",
   "pygments_lexer": "ipython3",
   "version": "3.8.3"
  }
 },
 "nbformat": 4,
 "nbformat_minor": 2
}
